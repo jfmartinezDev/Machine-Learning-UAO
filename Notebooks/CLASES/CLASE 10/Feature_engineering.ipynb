{
  "nbformat": 4,
  "nbformat_minor": 0,
  "metadata": {
    "colab": {
      "name": "Feature_engineering.ipynb",
      "provenance": []
    },
    "kernelspec": {
      "name": "python3",
      "display_name": "Python 3"
    }
  },
  "cells": [
    {
      "cell_type": "code",
      "metadata": {
        "id": "pjiR3ryQ93hY",
        "colab_type": "code",
        "colab": {
          "base_uri": "https://localhost:8080/",
          "height": 440
        },
        "outputId": "92600d9d-c7c0-4ea4-c277-094d147a59bd"
      },
      "source": [
        "!pip install mglearn"
      ],
      "execution_count": null,
      "outputs": [
        {
          "output_type": "stream",
          "text": [
            "Collecting mglearn\n",
            "\u001b[?25l  Downloading https://files.pythonhosted.org/packages/65/38/8aced26fce0b2ae82c3c87cd3b6105f38ca6d9d51704ecc44aa54473e6b9/mglearn-0.1.9.tar.gz (540kB)\n",
            "\r\u001b[K     |▋                               | 10kB 13.5MB/s eta 0:00:01\r\u001b[K     |█▏                              | 20kB 1.6MB/s eta 0:00:01\r\u001b[K     |█▉                              | 30kB 2.2MB/s eta 0:00:01\r\u001b[K     |██▍                             | 40kB 1.7MB/s eta 0:00:01\r\u001b[K     |███                             | 51kB 2.0MB/s eta 0:00:01\r\u001b[K     |███▋                            | 61kB 2.3MB/s eta 0:00:01\r\u001b[K     |████▎                           | 71kB 2.5MB/s eta 0:00:01\r\u001b[K     |████▉                           | 81kB 2.7MB/s eta 0:00:01\r\u001b[K     |█████▌                          | 92kB 3.0MB/s eta 0:00:01\r\u001b[K     |██████                          | 102kB 2.9MB/s eta 0:00:01\r\u001b[K     |██████▊                         | 112kB 2.9MB/s eta 0:00:01\r\u001b[K     |███████▎                        | 122kB 2.9MB/s eta 0:00:01\r\u001b[K     |███████▉                        | 133kB 2.9MB/s eta 0:00:01\r\u001b[K     |████████▌                       | 143kB 2.9MB/s eta 0:00:01\r\u001b[K     |█████████                       | 153kB 2.9MB/s eta 0:00:01\r\u001b[K     |█████████▊                      | 163kB 2.9MB/s eta 0:00:01\r\u001b[K     |██████████▎                     | 174kB 2.9MB/s eta 0:00:01\r\u001b[K     |███████████                     | 184kB 2.9MB/s eta 0:00:01\r\u001b[K     |███████████▌                    | 194kB 2.9MB/s eta 0:00:01\r\u001b[K     |████████████▏                   | 204kB 2.9MB/s eta 0:00:01\r\u001b[K     |████████████▊                   | 215kB 2.9MB/s eta 0:00:01\r\u001b[K     |█████████████▍                  | 225kB 2.9MB/s eta 0:00:01\r\u001b[K     |██████████████                  | 235kB 2.9MB/s eta 0:00:01\r\u001b[K     |██████████████▋                 | 245kB 2.9MB/s eta 0:00:01\r\u001b[K     |███████████████▏                | 256kB 2.9MB/s eta 0:00:01\r\u001b[K     |███████████████▊                | 266kB 2.9MB/s eta 0:00:01\r\u001b[K     |████████████████▍               | 276kB 2.9MB/s eta 0:00:01\r\u001b[K     |█████████████████               | 286kB 2.9MB/s eta 0:00:01\r\u001b[K     |█████████████████▋              | 296kB 2.9MB/s eta 0:00:01\r\u001b[K     |██████████████████▏             | 307kB 2.9MB/s eta 0:00:01\r\u001b[K     |██████████████████▉             | 317kB 2.9MB/s eta 0:00:01\r\u001b[K     |███████████████████▍            | 327kB 2.9MB/s eta 0:00:01\r\u001b[K     |████████████████████            | 337kB 2.9MB/s eta 0:00:01\r\u001b[K     |████████████████████▋           | 348kB 2.9MB/s eta 0:00:01\r\u001b[K     |█████████████████████▎          | 358kB 2.9MB/s eta 0:00:01\r\u001b[K     |█████████████████████▉          | 368kB 2.9MB/s eta 0:00:01\r\u001b[K     |██████████████████████▌         | 378kB 2.9MB/s eta 0:00:01\r\u001b[K     |███████████████████████         | 389kB 2.9MB/s eta 0:00:01\r\u001b[K     |███████████████████████▋        | 399kB 2.9MB/s eta 0:00:01\r\u001b[K     |████████████████████████▎       | 409kB 2.9MB/s eta 0:00:01\r\u001b[K     |████████████████████████▉       | 419kB 2.9MB/s eta 0:00:01\r\u001b[K     |█████████████████████████▌      | 430kB 2.9MB/s eta 0:00:01\r\u001b[K     |██████████████████████████      | 440kB 2.9MB/s eta 0:00:01\r\u001b[K     |██████████████████████████▊     | 450kB 2.9MB/s eta 0:00:01\r\u001b[K     |███████████████████████████▎    | 460kB 2.9MB/s eta 0:00:01\r\u001b[K     |████████████████████████████    | 471kB 2.9MB/s eta 0:00:01\r\u001b[K     |████████████████████████████▌   | 481kB 2.9MB/s eta 0:00:01\r\u001b[K     |█████████████████████████████▏  | 491kB 2.9MB/s eta 0:00:01\r\u001b[K     |█████████████████████████████▊  | 501kB 2.9MB/s eta 0:00:01\r\u001b[K     |██████████████████████████████▍ | 512kB 2.9MB/s eta 0:00:01\r\u001b[K     |███████████████████████████████ | 522kB 2.9MB/s eta 0:00:01\r\u001b[K     |███████████████████████████████▌| 532kB 2.9MB/s eta 0:00:01\r\u001b[K     |████████████████████████████████| 542kB 2.9MB/s \n",
            "\u001b[?25hRequirement already satisfied: numpy in /usr/local/lib/python3.6/dist-packages (from mglearn) (1.18.5)\n",
            "Requirement already satisfied: matplotlib in /usr/local/lib/python3.6/dist-packages (from mglearn) (3.2.2)\n",
            "Requirement already satisfied: scikit-learn in /usr/local/lib/python3.6/dist-packages (from mglearn) (0.22.2.post1)\n",
            "Requirement already satisfied: pandas in /usr/local/lib/python3.6/dist-packages (from mglearn) (1.0.5)\n",
            "Requirement already satisfied: pillow in /usr/local/lib/python3.6/dist-packages (from mglearn) (7.0.0)\n",
            "Requirement already satisfied: cycler in /usr/local/lib/python3.6/dist-packages (from mglearn) (0.10.0)\n",
            "Requirement already satisfied: imageio in /usr/local/lib/python3.6/dist-packages (from mglearn) (2.4.1)\n",
            "Requirement already satisfied: joblib in /usr/local/lib/python3.6/dist-packages (from mglearn) (0.16.0)\n",
            "Requirement already satisfied: kiwisolver>=1.0.1 in /usr/local/lib/python3.6/dist-packages (from matplotlib->mglearn) (1.2.0)\n",
            "Requirement already satisfied: python-dateutil>=2.1 in /usr/local/lib/python3.6/dist-packages (from matplotlib->mglearn) (2.8.1)\n",
            "Requirement already satisfied: pyparsing!=2.0.4,!=2.1.2,!=2.1.6,>=2.0.1 in /usr/local/lib/python3.6/dist-packages (from matplotlib->mglearn) (2.4.7)\n",
            "Requirement already satisfied: scipy>=0.17.0 in /usr/local/lib/python3.6/dist-packages (from scikit-learn->mglearn) (1.4.1)\n",
            "Requirement already satisfied: pytz>=2017.2 in /usr/local/lib/python3.6/dist-packages (from pandas->mglearn) (2018.9)\n",
            "Requirement already satisfied: six in /usr/local/lib/python3.6/dist-packages (from cycler->mglearn) (1.15.0)\n",
            "Building wheels for collected packages: mglearn\n",
            "  Building wheel for mglearn (setup.py) ... \u001b[?25l\u001b[?25hdone\n",
            "  Created wheel for mglearn: filename=mglearn-0.1.9-py2.py3-none-any.whl size=582639 sha256=8b70215258c1a08e91fba1e4d322aabe5f7b79ff0eef416083ce9d31f8b9bf3c\n",
            "  Stored in directory: /root/.cache/pip/wheels/eb/a6/ea/a6a3716233fa62fc561259b5cb1e28f79e9ff3592c0adac5f0\n",
            "Successfully built mglearn\n",
            "Installing collected packages: mglearn\n",
            "Successfully installed mglearn-0.1.9\n"
          ],
          "name": "stdout"
        }
      ]
    },
    {
      "cell_type": "code",
      "metadata": {
        "id": "azJ2zWzC-AwJ",
        "colab_type": "code",
        "colab": {
          "base_uri": "https://localhost:8080/",
          "height": 195
        },
        "outputId": "85a346d7-74c9-4655-f3f3-e02c5baf7f86"
      },
      "source": [
        "import os\n",
        "import pandas as pd\n",
        "import mglearn\n",
        "# The file has no headers naming the columns, so we pass header=None\n",
        "# and provide the column names explicitly in \"names\"\n",
        "adult_path = os.path.join(mglearn.datasets.DATA_PATH, \"adult.data\")\n",
        "data = pd.read_csv(\n",
        "    adult_path, header=None, index_col=False,\n",
        "    names=['age', 'workclass', 'fnlwgt', 'education',  'education-num',\n",
        "           'marital-status', 'occupation', 'relationship', 'race', 'gender',\n",
        "           'capital-gain', 'capital-loss', 'hours-per-week', 'native-country',\n",
        "           'income'])\n",
        "# For illustration purposes, we only select some of the columns\n",
        "data = data[['age', 'workclass', 'education', 'gender', 'hours-per-week',\n",
        "             'occupation', 'income']]\n",
        "# IPython.display allows nice output formatting within the Jupyter notebook\n",
        "display(data.head())"
      ],
      "execution_count": null,
      "outputs": [
        {
          "output_type": "display_data",
          "data": {
            "text/html": [
              "<div>\n",
              "<style scoped>\n",
              "    .dataframe tbody tr th:only-of-type {\n",
              "        vertical-align: middle;\n",
              "    }\n",
              "\n",
              "    .dataframe tbody tr th {\n",
              "        vertical-align: top;\n",
              "    }\n",
              "\n",
              "    .dataframe thead th {\n",
              "        text-align: right;\n",
              "    }\n",
              "</style>\n",
              "<table border=\"1\" class=\"dataframe\">\n",
              "  <thead>\n",
              "    <tr style=\"text-align: right;\">\n",
              "      <th></th>\n",
              "      <th>age</th>\n",
              "      <th>workclass</th>\n",
              "      <th>education</th>\n",
              "      <th>gender</th>\n",
              "      <th>hours-per-week</th>\n",
              "      <th>occupation</th>\n",
              "      <th>income</th>\n",
              "    </tr>\n",
              "  </thead>\n",
              "  <tbody>\n",
              "    <tr>\n",
              "      <th>0</th>\n",
              "      <td>39</td>\n",
              "      <td>State-gov</td>\n",
              "      <td>Bachelors</td>\n",
              "      <td>Male</td>\n",
              "      <td>40</td>\n",
              "      <td>Adm-clerical</td>\n",
              "      <td>&lt;=50K</td>\n",
              "    </tr>\n",
              "    <tr>\n",
              "      <th>1</th>\n",
              "      <td>50</td>\n",
              "      <td>Self-emp-not-inc</td>\n",
              "      <td>Bachelors</td>\n",
              "      <td>Male</td>\n",
              "      <td>13</td>\n",
              "      <td>Exec-managerial</td>\n",
              "      <td>&lt;=50K</td>\n",
              "    </tr>\n",
              "    <tr>\n",
              "      <th>2</th>\n",
              "      <td>38</td>\n",
              "      <td>Private</td>\n",
              "      <td>HS-grad</td>\n",
              "      <td>Male</td>\n",
              "      <td>40</td>\n",
              "      <td>Handlers-cleaners</td>\n",
              "      <td>&lt;=50K</td>\n",
              "    </tr>\n",
              "    <tr>\n",
              "      <th>3</th>\n",
              "      <td>53</td>\n",
              "      <td>Private</td>\n",
              "      <td>11th</td>\n",
              "      <td>Male</td>\n",
              "      <td>40</td>\n",
              "      <td>Handlers-cleaners</td>\n",
              "      <td>&lt;=50K</td>\n",
              "    </tr>\n",
              "    <tr>\n",
              "      <th>4</th>\n",
              "      <td>28</td>\n",
              "      <td>Private</td>\n",
              "      <td>Bachelors</td>\n",
              "      <td>Female</td>\n",
              "      <td>40</td>\n",
              "      <td>Prof-specialty</td>\n",
              "      <td>&lt;=50K</td>\n",
              "    </tr>\n",
              "  </tbody>\n",
              "</table>\n",
              "</div>"
            ],
            "text/plain": [
              "   age          workclass  ...          occupation  income\n",
              "0   39          State-gov  ...        Adm-clerical   <=50K\n",
              "1   50   Self-emp-not-inc  ...     Exec-managerial   <=50K\n",
              "2   38            Private  ...   Handlers-cleaners   <=50K\n",
              "3   53            Private  ...   Handlers-cleaners   <=50K\n",
              "4   28            Private  ...      Prof-specialty   <=50K\n",
              "\n",
              "[5 rows x 7 columns]"
            ]
          },
          "metadata": {
            "tags": []
          }
        }
      ]
    },
    {
      "cell_type": "code",
      "metadata": {
        "id": "I7tyK-EB-m5_",
        "colab_type": "code",
        "colab": {
          "base_uri": "https://localhost:8080/",
          "height": 235
        },
        "outputId": "c114d33b-042b-48d9-a447-7ec2ef7cdbc6"
      },
      "source": [
        "print(data.gender.value_counts())\n",
        "print(data.workclass.value_counts())"
      ],
      "execution_count": null,
      "outputs": [
        {
          "output_type": "stream",
          "text": [
            " Male      21790\n",
            " Female    10771\n",
            "Name: gender, dtype: int64\n",
            " Private             22696\n",
            " Self-emp-not-inc     2541\n",
            " Local-gov            2093\n",
            " ?                    1836\n",
            " State-gov            1298\n",
            " Self-emp-inc         1116\n",
            " Federal-gov           960\n",
            " Without-pay            14\n",
            " Never-worked            7\n",
            "Name: workclass, dtype: int64\n"
          ],
          "name": "stdout"
        }
      ]
    },
    {
      "cell_type": "code",
      "metadata": {
        "id": "C5PcnDpCCkdk",
        "colab_type": "code",
        "colab": {
          "base_uri": "https://localhost:8080/",
          "height": 121
        },
        "outputId": "e630d9c4-8751-41a4-80e6-e0e722b31772"
      },
      "source": [
        "print(\"Original features:\\n\", list(data.columns), \"\\n\")\n",
        "data_dummies = pd.get_dummies(data)\n",
        "print(\"Features after get_dummies:\\n\", list(data_dummies.columns))"
      ],
      "execution_count": null,
      "outputs": [
        {
          "output_type": "stream",
          "text": [
            "Original features:\n",
            " ['age', 'workclass', 'education', 'gender', 'hours-per-week', 'occupation', 'income'] \n",
            "\n",
            "Features after get_dummies:\n",
            " ['age', 'hours-per-week', 'workclass_ ?', 'workclass_ Federal-gov', 'workclass_ Local-gov', 'workclass_ Never-worked', 'workclass_ Private', 'workclass_ Self-emp-inc', 'workclass_ Self-emp-not-inc', 'workclass_ State-gov', 'workclass_ Without-pay', 'education_ 10th', 'education_ 11th', 'education_ 12th', 'education_ 1st-4th', 'education_ 5th-6th', 'education_ 7th-8th', 'education_ 9th', 'education_ Assoc-acdm', 'education_ Assoc-voc', 'education_ Bachelors', 'education_ Doctorate', 'education_ HS-grad', 'education_ Masters', 'education_ Preschool', 'education_ Prof-school', 'education_ Some-college', 'gender_ Female', 'gender_ Male', 'occupation_ ?', 'occupation_ Adm-clerical', 'occupation_ Armed-Forces', 'occupation_ Craft-repair', 'occupation_ Exec-managerial', 'occupation_ Farming-fishing', 'occupation_ Handlers-cleaners', 'occupation_ Machine-op-inspct', 'occupation_ Other-service', 'occupation_ Priv-house-serv', 'occupation_ Prof-specialty', 'occupation_ Protective-serv', 'occupation_ Sales', 'occupation_ Tech-support', 'occupation_ Transport-moving', 'income_ <=50K', 'income_ >50K']\n"
          ],
          "name": "stdout"
        }
      ]
    },
    {
      "cell_type": "code",
      "metadata": {
        "id": "1BecOCqVDPo0",
        "colab_type": "code",
        "colab": {
          "base_uri": "https://localhost:8080/",
          "height": 249
        },
        "outputId": "6ceb6fcd-9266-4760-af97-d2eb62057a59"
      },
      "source": [
        "display(data_dummies.head())"
      ],
      "execution_count": null,
      "outputs": [
        {
          "output_type": "display_data",
          "data": {
            "text/html": [
              "<div>\n",
              "<style scoped>\n",
              "    .dataframe tbody tr th:only-of-type {\n",
              "        vertical-align: middle;\n",
              "    }\n",
              "\n",
              "    .dataframe tbody tr th {\n",
              "        vertical-align: top;\n",
              "    }\n",
              "\n",
              "    .dataframe thead th {\n",
              "        text-align: right;\n",
              "    }\n",
              "</style>\n",
              "<table border=\"1\" class=\"dataframe\">\n",
              "  <thead>\n",
              "    <tr style=\"text-align: right;\">\n",
              "      <th></th>\n",
              "      <th>age</th>\n",
              "      <th>hours-per-week</th>\n",
              "      <th>workclass_ ?</th>\n",
              "      <th>workclass_ Federal-gov</th>\n",
              "      <th>workclass_ Local-gov</th>\n",
              "      <th>workclass_ Never-worked</th>\n",
              "      <th>workclass_ Private</th>\n",
              "      <th>workclass_ Self-emp-inc</th>\n",
              "      <th>workclass_ Self-emp-not-inc</th>\n",
              "      <th>workclass_ State-gov</th>\n",
              "      <th>workclass_ Without-pay</th>\n",
              "      <th>education_ 10th</th>\n",
              "      <th>education_ 11th</th>\n",
              "      <th>education_ 12th</th>\n",
              "      <th>education_ 1st-4th</th>\n",
              "      <th>education_ 5th-6th</th>\n",
              "      <th>education_ 7th-8th</th>\n",
              "      <th>education_ 9th</th>\n",
              "      <th>education_ Assoc-acdm</th>\n",
              "      <th>education_ Assoc-voc</th>\n",
              "      <th>education_ Bachelors</th>\n",
              "      <th>education_ Doctorate</th>\n",
              "      <th>education_ HS-grad</th>\n",
              "      <th>education_ Masters</th>\n",
              "      <th>education_ Preschool</th>\n",
              "      <th>education_ Prof-school</th>\n",
              "      <th>education_ Some-college</th>\n",
              "      <th>gender_ Female</th>\n",
              "      <th>gender_ Male</th>\n",
              "      <th>occupation_ ?</th>\n",
              "      <th>occupation_ Adm-clerical</th>\n",
              "      <th>occupation_ Armed-Forces</th>\n",
              "      <th>occupation_ Craft-repair</th>\n",
              "      <th>occupation_ Exec-managerial</th>\n",
              "      <th>occupation_ Farming-fishing</th>\n",
              "      <th>occupation_ Handlers-cleaners</th>\n",
              "      <th>occupation_ Machine-op-inspct</th>\n",
              "      <th>occupation_ Other-service</th>\n",
              "      <th>occupation_ Priv-house-serv</th>\n",
              "      <th>occupation_ Prof-specialty</th>\n",
              "      <th>occupation_ Protective-serv</th>\n",
              "      <th>occupation_ Sales</th>\n",
              "      <th>occupation_ Tech-support</th>\n",
              "      <th>occupation_ Transport-moving</th>\n",
              "      <th>income_ &lt;=50K</th>\n",
              "      <th>income_ &gt;50K</th>\n",
              "    </tr>\n",
              "  </thead>\n",
              "  <tbody>\n",
              "    <tr>\n",
              "      <th>0</th>\n",
              "      <td>39</td>\n",
              "      <td>40</td>\n",
              "      <td>0</td>\n",
              "      <td>0</td>\n",
              "      <td>0</td>\n",
              "      <td>0</td>\n",
              "      <td>0</td>\n",
              "      <td>0</td>\n",
              "      <td>0</td>\n",
              "      <td>1</td>\n",
              "      <td>0</td>\n",
              "      <td>0</td>\n",
              "      <td>0</td>\n",
              "      <td>0</td>\n",
              "      <td>0</td>\n",
              "      <td>0</td>\n",
              "      <td>0</td>\n",
              "      <td>0</td>\n",
              "      <td>0</td>\n",
              "      <td>0</td>\n",
              "      <td>1</td>\n",
              "      <td>0</td>\n",
              "      <td>0</td>\n",
              "      <td>0</td>\n",
              "      <td>0</td>\n",
              "      <td>0</td>\n",
              "      <td>0</td>\n",
              "      <td>0</td>\n",
              "      <td>1</td>\n",
              "      <td>0</td>\n",
              "      <td>1</td>\n",
              "      <td>0</td>\n",
              "      <td>0</td>\n",
              "      <td>0</td>\n",
              "      <td>0</td>\n",
              "      <td>0</td>\n",
              "      <td>0</td>\n",
              "      <td>0</td>\n",
              "      <td>0</td>\n",
              "      <td>0</td>\n",
              "      <td>0</td>\n",
              "      <td>0</td>\n",
              "      <td>0</td>\n",
              "      <td>0</td>\n",
              "      <td>1</td>\n",
              "      <td>0</td>\n",
              "    </tr>\n",
              "    <tr>\n",
              "      <th>1</th>\n",
              "      <td>50</td>\n",
              "      <td>13</td>\n",
              "      <td>0</td>\n",
              "      <td>0</td>\n",
              "      <td>0</td>\n",
              "      <td>0</td>\n",
              "      <td>0</td>\n",
              "      <td>0</td>\n",
              "      <td>1</td>\n",
              "      <td>0</td>\n",
              "      <td>0</td>\n",
              "      <td>0</td>\n",
              "      <td>0</td>\n",
              "      <td>0</td>\n",
              "      <td>0</td>\n",
              "      <td>0</td>\n",
              "      <td>0</td>\n",
              "      <td>0</td>\n",
              "      <td>0</td>\n",
              "      <td>0</td>\n",
              "      <td>1</td>\n",
              "      <td>0</td>\n",
              "      <td>0</td>\n",
              "      <td>0</td>\n",
              "      <td>0</td>\n",
              "      <td>0</td>\n",
              "      <td>0</td>\n",
              "      <td>0</td>\n",
              "      <td>1</td>\n",
              "      <td>0</td>\n",
              "      <td>0</td>\n",
              "      <td>0</td>\n",
              "      <td>0</td>\n",
              "      <td>1</td>\n",
              "      <td>0</td>\n",
              "      <td>0</td>\n",
              "      <td>0</td>\n",
              "      <td>0</td>\n",
              "      <td>0</td>\n",
              "      <td>0</td>\n",
              "      <td>0</td>\n",
              "      <td>0</td>\n",
              "      <td>0</td>\n",
              "      <td>0</td>\n",
              "      <td>1</td>\n",
              "      <td>0</td>\n",
              "    </tr>\n",
              "    <tr>\n",
              "      <th>2</th>\n",
              "      <td>38</td>\n",
              "      <td>40</td>\n",
              "      <td>0</td>\n",
              "      <td>0</td>\n",
              "      <td>0</td>\n",
              "      <td>0</td>\n",
              "      <td>1</td>\n",
              "      <td>0</td>\n",
              "      <td>0</td>\n",
              "      <td>0</td>\n",
              "      <td>0</td>\n",
              "      <td>0</td>\n",
              "      <td>0</td>\n",
              "      <td>0</td>\n",
              "      <td>0</td>\n",
              "      <td>0</td>\n",
              "      <td>0</td>\n",
              "      <td>0</td>\n",
              "      <td>0</td>\n",
              "      <td>0</td>\n",
              "      <td>0</td>\n",
              "      <td>0</td>\n",
              "      <td>1</td>\n",
              "      <td>0</td>\n",
              "      <td>0</td>\n",
              "      <td>0</td>\n",
              "      <td>0</td>\n",
              "      <td>0</td>\n",
              "      <td>1</td>\n",
              "      <td>0</td>\n",
              "      <td>0</td>\n",
              "      <td>0</td>\n",
              "      <td>0</td>\n",
              "      <td>0</td>\n",
              "      <td>0</td>\n",
              "      <td>1</td>\n",
              "      <td>0</td>\n",
              "      <td>0</td>\n",
              "      <td>0</td>\n",
              "      <td>0</td>\n",
              "      <td>0</td>\n",
              "      <td>0</td>\n",
              "      <td>0</td>\n",
              "      <td>0</td>\n",
              "      <td>1</td>\n",
              "      <td>0</td>\n",
              "    </tr>\n",
              "    <tr>\n",
              "      <th>3</th>\n",
              "      <td>53</td>\n",
              "      <td>40</td>\n",
              "      <td>0</td>\n",
              "      <td>0</td>\n",
              "      <td>0</td>\n",
              "      <td>0</td>\n",
              "      <td>1</td>\n",
              "      <td>0</td>\n",
              "      <td>0</td>\n",
              "      <td>0</td>\n",
              "      <td>0</td>\n",
              "      <td>0</td>\n",
              "      <td>1</td>\n",
              "      <td>0</td>\n",
              "      <td>0</td>\n",
              "      <td>0</td>\n",
              "      <td>0</td>\n",
              "      <td>0</td>\n",
              "      <td>0</td>\n",
              "      <td>0</td>\n",
              "      <td>0</td>\n",
              "      <td>0</td>\n",
              "      <td>0</td>\n",
              "      <td>0</td>\n",
              "      <td>0</td>\n",
              "      <td>0</td>\n",
              "      <td>0</td>\n",
              "      <td>0</td>\n",
              "      <td>1</td>\n",
              "      <td>0</td>\n",
              "      <td>0</td>\n",
              "      <td>0</td>\n",
              "      <td>0</td>\n",
              "      <td>0</td>\n",
              "      <td>0</td>\n",
              "      <td>1</td>\n",
              "      <td>0</td>\n",
              "      <td>0</td>\n",
              "      <td>0</td>\n",
              "      <td>0</td>\n",
              "      <td>0</td>\n",
              "      <td>0</td>\n",
              "      <td>0</td>\n",
              "      <td>0</td>\n",
              "      <td>1</td>\n",
              "      <td>0</td>\n",
              "    </tr>\n",
              "    <tr>\n",
              "      <th>4</th>\n",
              "      <td>28</td>\n",
              "      <td>40</td>\n",
              "      <td>0</td>\n",
              "      <td>0</td>\n",
              "      <td>0</td>\n",
              "      <td>0</td>\n",
              "      <td>1</td>\n",
              "      <td>0</td>\n",
              "      <td>0</td>\n",
              "      <td>0</td>\n",
              "      <td>0</td>\n",
              "      <td>0</td>\n",
              "      <td>0</td>\n",
              "      <td>0</td>\n",
              "      <td>0</td>\n",
              "      <td>0</td>\n",
              "      <td>0</td>\n",
              "      <td>0</td>\n",
              "      <td>0</td>\n",
              "      <td>0</td>\n",
              "      <td>1</td>\n",
              "      <td>0</td>\n",
              "      <td>0</td>\n",
              "      <td>0</td>\n",
              "      <td>0</td>\n",
              "      <td>0</td>\n",
              "      <td>0</td>\n",
              "      <td>1</td>\n",
              "      <td>0</td>\n",
              "      <td>0</td>\n",
              "      <td>0</td>\n",
              "      <td>0</td>\n",
              "      <td>0</td>\n",
              "      <td>0</td>\n",
              "      <td>0</td>\n",
              "      <td>0</td>\n",
              "      <td>0</td>\n",
              "      <td>0</td>\n",
              "      <td>0</td>\n",
              "      <td>1</td>\n",
              "      <td>0</td>\n",
              "      <td>0</td>\n",
              "      <td>0</td>\n",
              "      <td>0</td>\n",
              "      <td>1</td>\n",
              "      <td>0</td>\n",
              "    </tr>\n",
              "  </tbody>\n",
              "</table>\n",
              "</div>"
            ],
            "text/plain": [
              "   age  hours-per-week  ...  income_ <=50K  income_ >50K\n",
              "0   39              40  ...              1             0\n",
              "1   50              13  ...              1             0\n",
              "2   38              40  ...              1             0\n",
              "3   53              40  ...              1             0\n",
              "4   28              40  ...              1             0\n",
              "\n",
              "[5 rows x 46 columns]"
            ]
          },
          "metadata": {
            "tags": []
          }
        }
      ]
    },
    {
      "cell_type": "code",
      "metadata": {
        "id": "hd15O4YdECzT",
        "colab_type": "code",
        "colab": {
          "base_uri": "https://localhost:8080/",
          "height": 34
        },
        "outputId": "b295d701-aa0c-4e44-95d6-5941699b0c08"
      },
      "source": [
        "features = data_dummies.loc[:, 'age':'occupation_ Transport-moving']\n",
        "# Extract NumPy arrays\n",
        "X = features.values\n",
        "y = data_dummies['income_ >50K'].values\n",
        "print(\"X.shape: {}  y.shape: {}\".format(X.shape, y.shape))"
      ],
      "execution_count": null,
      "outputs": [
        {
          "output_type": "stream",
          "text": [
            "X.shape: (32561, 44)  y.shape: (32561,)\n"
          ],
          "name": "stdout"
        }
      ]
    },
    {
      "cell_type": "code",
      "metadata": {
        "id": "Mn8LD60wFr9_",
        "colab_type": "code",
        "colab": {
          "base_uri": "https://localhost:8080/",
          "height": 185
        },
        "outputId": "9c0ce938-1bb6-4098-946d-3a6c6776ea16"
      },
      "source": [
        "from sklearn.linear_model import LogisticRegression\n",
        "from sklearn.model_selection import train_test_split\n",
        "X_train, X_test, y_train, y_test = train_test_split(X, y, random_state=0)\n",
        "logreg = LogisticRegression()\n",
        "logreg.fit(X_train, y_train)\n",
        "print(\"Training score: {:.2f}\".format(logreg.score(X_train, y_train)))\n",
        "print(\"Test score: {:.2f}\".format(logreg.score(X_test, y_test)))"
      ],
      "execution_count": null,
      "outputs": [
        {
          "output_type": "stream",
          "text": [
            "Training score: 0.81\n",
            "Test score: 0.81\n"
          ],
          "name": "stdout"
        },
        {
          "output_type": "stream",
          "text": [
            "/usr/local/lib/python3.6/dist-packages/sklearn/linear_model/_logistic.py:940: ConvergenceWarning: lbfgs failed to converge (status=1):\n",
            "STOP: TOTAL NO. of ITERATIONS REACHED LIMIT.\n",
            "\n",
            "Increase the number of iterations (max_iter) or scale the data as shown in:\n",
            "    https://scikit-learn.org/stable/modules/preprocessing.html\n",
            "Please also refer to the documentation for alternative solver options:\n",
            "    https://scikit-learn.org/stable/modules/linear_model.html#logistic-regression\n",
            "  extra_warning_msg=_LOGISTIC_SOLVER_CONVERGENCE_MSG)\n"
          ],
          "name": "stderr"
        }
      ]
    },
    {
      "cell_type": "code",
      "metadata": {
        "id": "ArGqEpXPF4WD",
        "colab_type": "code",
        "colab": {
          "base_uri": "https://localhost:8080/",
          "height": 166
        },
        "outputId": "4fba287b-ab04-4b29-e1a9-485c306e2c2c"
      },
      "source": [
        "# create a DataFrame with an integer feature and a categorical string feature\n",
        "demo_df = pd.DataFrame({'Integer Feature': [0, 1, 2, 1],\n",
        "                        'Categorical Feature': ['socks', 'fox', 'socks', 'box']})\n",
        "display(demo_df)"
      ],
      "execution_count": null,
      "outputs": [
        {
          "output_type": "display_data",
          "data": {
            "text/html": [
              "<div>\n",
              "<style scoped>\n",
              "    .dataframe tbody tr th:only-of-type {\n",
              "        vertical-align: middle;\n",
              "    }\n",
              "\n",
              "    .dataframe tbody tr th {\n",
              "        vertical-align: top;\n",
              "    }\n",
              "\n",
              "    .dataframe thead th {\n",
              "        text-align: right;\n",
              "    }\n",
              "</style>\n",
              "<table border=\"1\" class=\"dataframe\">\n",
              "  <thead>\n",
              "    <tr style=\"text-align: right;\">\n",
              "      <th></th>\n",
              "      <th>Integer Feature</th>\n",
              "      <th>Categorical Feature</th>\n",
              "    </tr>\n",
              "  </thead>\n",
              "  <tbody>\n",
              "    <tr>\n",
              "      <th>0</th>\n",
              "      <td>0</td>\n",
              "      <td>socks</td>\n",
              "    </tr>\n",
              "    <tr>\n",
              "      <th>1</th>\n",
              "      <td>1</td>\n",
              "      <td>fox</td>\n",
              "    </tr>\n",
              "    <tr>\n",
              "      <th>2</th>\n",
              "      <td>2</td>\n",
              "      <td>socks</td>\n",
              "    </tr>\n",
              "    <tr>\n",
              "      <th>3</th>\n",
              "      <td>1</td>\n",
              "      <td>box</td>\n",
              "    </tr>\n",
              "  </tbody>\n",
              "</table>\n",
              "</div>"
            ],
            "text/plain": [
              "   Integer Feature Categorical Feature\n",
              "0                0               socks\n",
              "1                1                 fox\n",
              "2                2               socks\n",
              "3                1                 box"
            ]
          },
          "metadata": {
            "tags": []
          }
        }
      ]
    },
    {
      "cell_type": "code",
      "metadata": {
        "id": "Whtwhn7pHRyz",
        "colab_type": "code",
        "colab": {
          "base_uri": "https://localhost:8080/",
          "height": 166
        },
        "outputId": "476c0088-327e-43c0-cae2-728b6f214dbe"
      },
      "source": [
        "display(pd.get_dummies(demo_df))"
      ],
      "execution_count": null,
      "outputs": [
        {
          "output_type": "display_data",
          "data": {
            "text/html": [
              "<div>\n",
              "<style scoped>\n",
              "    .dataframe tbody tr th:only-of-type {\n",
              "        vertical-align: middle;\n",
              "    }\n",
              "\n",
              "    .dataframe tbody tr th {\n",
              "        vertical-align: top;\n",
              "    }\n",
              "\n",
              "    .dataframe thead th {\n",
              "        text-align: right;\n",
              "    }\n",
              "</style>\n",
              "<table border=\"1\" class=\"dataframe\">\n",
              "  <thead>\n",
              "    <tr style=\"text-align: right;\">\n",
              "      <th></th>\n",
              "      <th>Integer Feature</th>\n",
              "      <th>Categorical Feature_box</th>\n",
              "      <th>Categorical Feature_fox</th>\n",
              "      <th>Categorical Feature_socks</th>\n",
              "    </tr>\n",
              "  </thead>\n",
              "  <tbody>\n",
              "    <tr>\n",
              "      <th>0</th>\n",
              "      <td>0</td>\n",
              "      <td>0</td>\n",
              "      <td>0</td>\n",
              "      <td>1</td>\n",
              "    </tr>\n",
              "    <tr>\n",
              "      <th>1</th>\n",
              "      <td>1</td>\n",
              "      <td>0</td>\n",
              "      <td>1</td>\n",
              "      <td>0</td>\n",
              "    </tr>\n",
              "    <tr>\n",
              "      <th>2</th>\n",
              "      <td>2</td>\n",
              "      <td>0</td>\n",
              "      <td>0</td>\n",
              "      <td>1</td>\n",
              "    </tr>\n",
              "    <tr>\n",
              "      <th>3</th>\n",
              "      <td>1</td>\n",
              "      <td>1</td>\n",
              "      <td>0</td>\n",
              "      <td>0</td>\n",
              "    </tr>\n",
              "  </tbody>\n",
              "</table>\n",
              "</div>"
            ],
            "text/plain": [
              "   Integer Feature  ...  Categorical Feature_socks\n",
              "0                0  ...                          1\n",
              "1                1  ...                          0\n",
              "2                2  ...                          1\n",
              "3                1  ...                          0\n",
              "\n",
              "[4 rows x 4 columns]"
            ]
          },
          "metadata": {
            "tags": []
          }
        }
      ]
    },
    {
      "cell_type": "code",
      "metadata": {
        "id": "AjudxJ0YHiRD",
        "colab_type": "code",
        "colab": {
          "base_uri": "https://localhost:8080/",
          "height": 166
        },
        "outputId": "5fa7e4f4-035b-46bf-b71f-a08dc6cec441"
      },
      "source": [
        "demo_df['Integer Feature'] = demo_df['Integer Feature'].astype(str)\n",
        "display(pd.get_dummies(demo_df, columns=['Integer Feature', 'Categorical Feature']))"
      ],
      "execution_count": null,
      "outputs": [
        {
          "output_type": "display_data",
          "data": {
            "text/html": [
              "<div>\n",
              "<style scoped>\n",
              "    .dataframe tbody tr th:only-of-type {\n",
              "        vertical-align: middle;\n",
              "    }\n",
              "\n",
              "    .dataframe tbody tr th {\n",
              "        vertical-align: top;\n",
              "    }\n",
              "\n",
              "    .dataframe thead th {\n",
              "        text-align: right;\n",
              "    }\n",
              "</style>\n",
              "<table border=\"1\" class=\"dataframe\">\n",
              "  <thead>\n",
              "    <tr style=\"text-align: right;\">\n",
              "      <th></th>\n",
              "      <th>Integer Feature_0</th>\n",
              "      <th>Integer Feature_1</th>\n",
              "      <th>Integer Feature_2</th>\n",
              "      <th>Categorical Feature_box</th>\n",
              "      <th>Categorical Feature_fox</th>\n",
              "      <th>Categorical Feature_socks</th>\n",
              "    </tr>\n",
              "  </thead>\n",
              "  <tbody>\n",
              "    <tr>\n",
              "      <th>0</th>\n",
              "      <td>1</td>\n",
              "      <td>0</td>\n",
              "      <td>0</td>\n",
              "      <td>0</td>\n",
              "      <td>0</td>\n",
              "      <td>1</td>\n",
              "    </tr>\n",
              "    <tr>\n",
              "      <th>1</th>\n",
              "      <td>0</td>\n",
              "      <td>1</td>\n",
              "      <td>0</td>\n",
              "      <td>0</td>\n",
              "      <td>1</td>\n",
              "      <td>0</td>\n",
              "    </tr>\n",
              "    <tr>\n",
              "      <th>2</th>\n",
              "      <td>0</td>\n",
              "      <td>0</td>\n",
              "      <td>1</td>\n",
              "      <td>0</td>\n",
              "      <td>0</td>\n",
              "      <td>1</td>\n",
              "    </tr>\n",
              "    <tr>\n",
              "      <th>3</th>\n",
              "      <td>0</td>\n",
              "      <td>1</td>\n",
              "      <td>0</td>\n",
              "      <td>1</td>\n",
              "      <td>0</td>\n",
              "      <td>0</td>\n",
              "    </tr>\n",
              "  </tbody>\n",
              "</table>\n",
              "</div>"
            ],
            "text/plain": [
              "   Integer Feature_0  ...  Categorical Feature_socks\n",
              "0                  1  ...                          1\n",
              "1                  0  ...                          0\n",
              "2                  0  ...                          1\n",
              "3                  0  ...                          0\n",
              "\n",
              "[4 rows x 6 columns]"
            ]
          },
          "metadata": {
            "tags": []
          }
        }
      ]
    },
    {
      "cell_type": "code",
      "metadata": {
        "id": "QfXlfE9yIKbE",
        "colab_type": "code",
        "colab": {
          "base_uri": "https://localhost:8080/",
          "height": 84
        },
        "outputId": "4700c0fc-1926-41f6-9638-d64e727a5679"
      },
      "source": [
        "from sklearn.preprocessing import OneHotEncoder\n",
        "# Setting sparse=False means OneHotEncode will return a numpy array, not a sparse matrix\n",
        "ohe = OneHotEncoder(sparse=False)\n",
        "print(ohe.fit_transform(demo_df))"
      ],
      "execution_count": null,
      "outputs": [
        {
          "output_type": "stream",
          "text": [
            "[[1. 0. 0. 0. 0. 1.]\n",
            " [0. 1. 0. 0. 1. 0.]\n",
            " [0. 0. 1. 0. 0. 1.]\n",
            " [0. 1. 0. 1. 0. 0.]]\n"
          ],
          "name": "stdout"
        }
      ]
    },
    {
      "cell_type": "code",
      "metadata": {
        "id": "fBab8OL8JVVa",
        "colab_type": "code",
        "colab": {
          "base_uri": "https://localhost:8080/",
          "height": 34
        },
        "outputId": "19d1e79d-8e63-49de-d9af-5bc2323e5710"
      },
      "source": [
        "print(ohe.get_feature_names())"
      ],
      "execution_count": null,
      "outputs": [
        {
          "output_type": "stream",
          "text": [
            "['x0_0' 'x0_1' 'x0_2' 'x1_box' 'x1_fox' 'x1_socks']\n"
          ],
          "name": "stdout"
        }
      ]
    },
    {
      "cell_type": "code",
      "metadata": {
        "id": "F6a_9kHhJgZD",
        "colab_type": "code",
        "colab": {}
      },
      "source": [
        "from sklearn.compose import ColumnTransformer\n",
        "from sklearn.preprocessing import StandardScaler\n",
        "ct = ColumnTransformer([(\"scaling\", StandardScaler(), ['age', 'hours-per-week']),\n",
        "     (\"onehot\", OneHotEncoder(sparse=False), ['workclass', 'education', 'gender', 'occupation'])])"
      ],
      "execution_count": null,
      "outputs": []
    },
    {
      "cell_type": "code",
      "metadata": {
        "id": "k2NwSdmCK74h",
        "colab_type": "code",
        "colab": {
          "base_uri": "https://localhost:8080/",
          "height": 50
        },
        "outputId": "45f48db2-fc1d-46d2-e13d-9f4702d6aac3"
      },
      "source": [
        "from sklearn.linear_model import LogisticRegression\n",
        "from sklearn.model_selection import train_test_split\n",
        "\n",
        "data_features = data.drop(\"income\", axis=1)\n",
        "X_train, X_test, y_train, y_test = train_test_split(data_features, data.income, random_state=0)\n",
        "\n",
        "ct.fit(X_train)\n",
        "X_train_trans = ct.transform(X_train)\n",
        "\n",
        "print(X_train.shape)\n",
        "print(X_train_trans.shape)"
      ],
      "execution_count": null,
      "outputs": [
        {
          "output_type": "stream",
          "text": [
            "(24420, 6)\n",
            "(24420, 44)\n"
          ],
          "name": "stdout"
        }
      ]
    },
    {
      "cell_type": "code",
      "metadata": {
        "id": "dMHDaLd-MJaG",
        "colab_type": "code",
        "colab": {
          "base_uri": "https://localhost:8080/",
          "height": 34
        },
        "outputId": "d32b19e4-bdb0-4c61-845a-1a9895fce3a4"
      },
      "source": [
        "logreg = LogisticRegression(max_iter=1000)\n",
        "logreg.fit(X_train_trans, y_train)\n",
        "\n",
        "X_test_trans = ct.transform(X_test)\n",
        "print(\"Test score: {:.2f}\".format(logreg.score(X_test_trans, y_test)))"
      ],
      "execution_count": null,
      "outputs": [
        {
          "output_type": "stream",
          "text": [
            "Test score: 0.81\n"
          ],
          "name": "stdout"
        }
      ]
    },
    {
      "cell_type": "code",
      "metadata": {
        "id": "qZEeDDcsMZxC",
        "colab_type": "code",
        "colab": {
          "base_uri": "https://localhost:8080/",
          "height": 346
        },
        "outputId": "96e7f175-2473-43d4-ef18-2dca94cd7804"
      },
      "source": [
        "import numpy as np\n",
        "import matplotlib.pyplot as plt\n",
        "from sklearn.linear_model import LinearRegression\n",
        "from sklearn.tree import DecisionTreeRegressor\n",
        "\n",
        "X, y = mglearn.datasets.make_wave(n_samples=120)\n",
        "display(X.shape)\n",
        "display(y.shape)\n",
        "line = np.linspace(-3, 3, 1000, endpoint=False).reshape(-1, 1)\n",
        "display(line.shape)\n",
        "\n",
        "reg = DecisionTreeRegressor(min_samples_leaf=3).fit(X, y)\n",
        "plt.plot(line, reg.predict(line), label=\"decision tree\")\n",
        "\n",
        "reg = LinearRegression().fit(X, y)\n",
        "plt.plot(line, reg.predict(line), label=\"linear regression\")\n",
        "\n",
        "plt.plot(X[:, 0], y, 'o', c='k')\n",
        "plt.ylabel(\"Regression output\")\n",
        "plt.xlabel(\"Input feature\")\n",
        "plt.legend(loc=\"best\")"
      ],
      "execution_count": null,
      "outputs": [
        {
          "output_type": "display_data",
          "data": {
            "text/plain": [
              "(120, 1)"
            ]
          },
          "metadata": {
            "tags": []
          }
        },
        {
          "output_type": "display_data",
          "data": {
            "text/plain": [
              "(120,)"
            ]
          },
          "metadata": {
            "tags": []
          }
        },
        {
          "output_type": "display_data",
          "data": {
            "text/plain": [
              "(1000, 1)"
            ]
          },
          "metadata": {
            "tags": []
          }
        },
        {
          "output_type": "execute_result",
          "data": {
            "text/plain": [
              "<matplotlib.legend.Legend at 0x7f6af54f21d0>"
            ]
          },
          "metadata": {
            "tags": []
          },
          "execution_count": 27
        },
        {
          "output_type": "display_data",
          "data": {
            "image/png": "[encoded data removed]",
            "text/plain": [
              "<Figure size 432x288 with 1 Axes>"
            ]
          },
          "metadata": {
            "tags": [],
            "needs_background": "light"
          }
        }
      ]
    },
    {
      "cell_type": "code",
      "metadata": {
        "id": "NTTDqlBxRyAg",
        "colab_type": "code",
        "colab": {}
      },
      "source": [
        "from sklearn.preprocessing import KBinsDiscretizer"
      ],
      "execution_count": null,
      "outputs": []
    },
    {
      "cell_type": "code",
      "metadata": {
        "id": "DIy6BkHBU4x3",
        "colab_type": "code",
        "colab": {
          "base_uri": "https://localhost:8080/",
          "height": 84
        },
        "outputId": "df5925a8-8999-4a63-bafb-6c167cd46eb7"
      },
      "source": [
        "kb = KBinsDiscretizer(n_bins=10, strategy='uniform')\n",
        "kb.fit(X)\n",
        "print(\"bin edges: \\n\", kb.bin_edges_)"
      ],
      "execution_count": null,
      "outputs": [
        {
          "output_type": "stream",
          "text": [
            "bin edges: \n",
            " [array([-2.9668673 , -2.37804841, -1.78922951, -1.20041062, -0.61159173,\n",
            "       -0.02277284,  0.56604605,  1.15486494,  1.74368384,  2.33250273,\n",
            "        2.92132162])]\n"
          ],
          "name": "stdout"
        }
      ]
    },
    {
      "cell_type": "code",
      "metadata": {
        "id": "C5jc-jh_VPcP",
        "colab_type": "code",
        "colab": {}
      },
      "source": [
        "X_binned = kb.transform(X)"
      ],
      "execution_count": null,
      "outputs": []
    },
    {
      "cell_type": "code",
      "metadata": {
        "id": "6BjHluybV4VP",
        "colab_type": "code",
        "colab": {
          "base_uri": "https://localhost:8080/",
          "height": 353
        },
        "outputId": "595c6700-e729-43e2-efa8-c23435c36a5a"
      },
      "source": [
        "print(X[:10])\n",
        "X_binned.toarray()[:10]"
      ],
      "execution_count": null,
      "outputs": [
        {
          "output_type": "stream",
          "text": [
            "[[-0.75275929]\n",
            " [ 2.70428584]\n",
            " [ 1.39196365]\n",
            " [ 0.59195091]\n",
            " [-2.06388816]\n",
            " [-2.06403288]\n",
            " [-2.65149833]\n",
            " [ 2.19705687]\n",
            " [ 0.60669007]\n",
            " [ 1.24843547]]\n"
          ],
          "name": "stdout"
        },
        {
          "output_type": "execute_result",
          "data": {
            "text/plain": [
              "array([[0., 0., 0., 1., 0., 0., 0., 0., 0., 0.],\n",
              "       [0., 0., 0., 0., 0., 0., 0., 0., 0., 1.],\n",
              "       [0., 0., 0., 0., 0., 0., 0., 1., 0., 0.],\n",
              "       [0., 0., 0., 0., 0., 0., 1., 0., 0., 0.],\n",
              "       [0., 1., 0., 0., 0., 0., 0., 0., 0., 0.],\n",
              "       [0., 1., 0., 0., 0., 0., 0., 0., 0., 0.],\n",
              "       [1., 0., 0., 0., 0., 0., 0., 0., 0., 0.],\n",
              "       [0., 0., 0., 0., 0., 0., 0., 0., 1., 0.],\n",
              "       [0., 0., 0., 0., 0., 0., 1., 0., 0., 0.],\n",
              "       [0., 0., 0., 0., 0., 0., 0., 1., 0., 0.]])"
            ]
          },
          "metadata": {
            "tags": []
          },
          "execution_count": 32
        }
      ]
    },
    {
      "cell_type": "code",
      "metadata": {
        "id": "1QtNffSiWJ5_",
        "colab_type": "code",
        "colab": {}
      },
      "source": [
        "kb = KBinsDiscretizer(n_bins=10, strategy='uniform', encode='onehot-dense')\n",
        "kb.fit(X)\n",
        "X_binned = kb.transform(X)"
      ],
      "execution_count": null,
      "outputs": []
    },
    {
      "cell_type": "code",
      "metadata": {
        "id": "31BIQuyGW7du",
        "colab_type": "code",
        "colab": {
          "base_uri": "https://localhost:8080/",
          "height": 296
        },
        "outputId": "0199b312-d580-4059-85b3-2658377d3905"
      },
      "source": [
        "line_binned = kb.transform(line)\n",
        "reg = LinearRegression().fit(X_binned, y)\n",
        "plt.plot(line, reg.predict(line_binned), label='linear regression binned')\n",
        "\n",
        "reg = DecisionTreeRegressor(min_samples_split=3).fit(X_binned, y)\n",
        "plt.plot(line, reg.predict(line_binned), label='decision tree binned')\n",
        "plt.plot(X[:, 0], y, 'o', c='k')\n",
        "plt.vlines(kb.bin_edges_[0], -3, 3, linewidth=1, alpha=.2)\n",
        "plt.legend(loc=\"best\")\n",
        "plt.ylabel(\"Regression output\")\n",
        "plt.xlabel(\"Input feature\")"
      ],
      "execution_count": null,
      "outputs": [
        {
          "output_type": "execute_result",
          "data": {
            "text/plain": [
              "Text(0.5, 0, 'Input feature')"
            ]
          },
          "metadata": {
            "tags": []
          },
          "execution_count": 36
        },
        {
          "output_type": "display_data",
          "data": {
            "image/png": "[encoded data removed]",
            "text/plain": [
              "<Figure size 432x288 with 1 Axes>"
            ]
          },
          "metadata": {
            "tags": [],
            "needs_background": "light"
          }
        }
      ]
    },
    {
      "cell_type": "code",
      "metadata": {
        "id": "UZIacpEdXmFd",
        "colab_type": "code",
        "colab": {
          "base_uri": "https://localhost:8080/",
          "height": 235
        },
        "outputId": "4e0666de-feee-4089-a27f-5c6306a0ee73"
      },
      "source": [
        "X_combined = np.hstack([X, X_binned])\n",
        "print(X_combined)"
      ],
      "execution_count": null,
      "outputs": [
        {
          "output_type": "stream",
          "text": [
            "[[-0.75275929  0.          0.         ...  0.          0.\n",
            "   0.        ]\n",
            " [ 2.70428584  0.          0.         ...  0.          0.\n",
            "   1.        ]\n",
            " [ 1.39196365  0.          0.         ...  1.          0.\n",
            "   0.        ]\n",
            " ...\n",
            " [-1.88057965  0.          1.         ...  0.          0.\n",
            "   0.        ]\n",
            " [ 2.35535399  0.          0.         ...  0.          0.\n",
            "   1.        ]\n",
            " [ 0.23605345  0.          0.         ...  0.          0.\n",
            "   0.        ]]\n"
          ],
          "name": "stdout"
        }
      ]
    },
    {
      "cell_type": "code",
      "metadata": {
        "id": "4nWFUQ48aQt2",
        "colab_type": "code",
        "colab": {
          "base_uri": "https://localhost:8080/",
          "height": 296
        },
        "outputId": "991436db-d923-4969-9fe9-f19d7709852d"
      },
      "source": [
        "reg = LinearRegression().fit(X_combined, y)\n",
        "\n",
        "line_combined = np.hstack([line, line_binned])\n",
        "plt.plot(line, reg.predict(line_combined), label='linear regression combined')\n",
        "\n",
        "plt.vlines(kb.bin_edges_[0], -3, 3, linewidth=1, alpha=.2)\n",
        "plt.legend(loc=\"best\")\n",
        "plt.ylabel(\"Regression output\")\n",
        "plt.xlabel(\"Input feature\")\n",
        "plt.plot(X[:, 0], y, 'o', c='k')"
      ],
      "execution_count": null,
      "outputs": [
        {
          "output_type": "execute_result",
          "data": {
            "text/plain": [
              "[<matplotlib.lines.Line2D at 0x7f6af52feda0>]"
            ]
          },
          "metadata": {
            "tags": []
          },
          "execution_count": 39
        },
        {
          "output_type": "display_data",
          "data": {
            "image/png": "[encoded data removed]",
            "text/plain": [
              "<Figure size 432x288 with 1 Axes>"
            ]
          },
          "metadata": {
            "tags": [],
            "needs_background": "light"
          }
        }
      ]
    },
    {
      "cell_type": "code",
      "metadata": {
        "id": "k8vnr_0_acxt",
        "colab_type": "code",
        "colab": {
          "base_uri": "https://localhost:8080/",
          "height": 84
        },
        "outputId": "aa6915a0-88b2-4021-a6b2-6b267b4f556d"
      },
      "source": [
        "X_product = np.hstack([X_binned, X * X_binned])\n",
        "print(X_product[1,:])"
      ],
      "execution_count": null,
      "outputs": [
        {
          "output_type": "stream",
          "text": [
            "[0.         0.         0.         0.         0.         0.\n",
            " 0.         0.         0.         1.         0.         0.\n",
            " 0.         0.         0.         0.         0.         0.\n",
            " 0.         2.70428584]\n"
          ],
          "name": "stdout"
        }
      ]
    },
    {
      "cell_type": "code",
      "metadata": {
        "id": "TU2Yi8kqbH8O",
        "colab_type": "code",
        "colab": {
          "base_uri": "https://localhost:8080/",
          "height": 296
        },
        "outputId": "d0b6475c-95b7-4197-8fde-f6549234e653"
      },
      "source": [
        "reg = LinearRegression().fit(X_product, y)\n",
        "\n",
        "line_product = np.hstack([line_binned, line * line_binned])\n",
        "plt.plot(line, reg.predict(line_product), label='linear regression product')\n",
        "\n",
        "plt.vlines(kb.bin_edges_[0], -3, 3, linewidth=1, alpha=.2)\n",
        "\n",
        "plt.plot(X[:, 0], y, 'o', c='k')\n",
        "plt.ylabel(\"Regression output\")\n",
        "plt.xlabel(\"Input feature\")\n",
        "plt.legend(loc=\"best\")"
      ],
      "execution_count": null,
      "outputs": [
        {
          "output_type": "execute_result",
          "data": {
            "text/plain": [
              "<matplotlib.legend.Legend at 0x7f6aed7f8208>"
            ]
          },
          "metadata": {
            "tags": []
          },
          "execution_count": 44
        },
        {
          "output_type": "display_data",
          "data": {
            "image/png": "[encoded data removed]",
            "text/plain": [
              "<Figure size 432x288 with 1 Axes>"
            ]
          },
          "metadata": {
            "tags": [],
            "needs_background": "light"
          }
        }
      ]
    },
    {
      "cell_type": "code",
      "metadata": {
        "id": "egqRVHBpb8qP",
        "colab_type": "code",
        "colab": {}
      },
      "source": [
        ""
      ],
      "execution_count": null,
      "outputs": []
    }
  ]
}