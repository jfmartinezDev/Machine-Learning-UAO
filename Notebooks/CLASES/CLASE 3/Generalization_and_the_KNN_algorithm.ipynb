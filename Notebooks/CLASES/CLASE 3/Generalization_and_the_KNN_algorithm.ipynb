{
  "nbformat": 4,
  "nbformat_minor": 0,
  "metadata": {
    "colab": {
      "name": "Generalization and the KNN algorithm .ipynb",
      "provenance": []
    },
    "kernelspec": {
      "name": "python3",
      "display_name": "Python 3"
    }
  },
  "cells": [
    {
      "cell_type": "code",
      "metadata": {
        "id": "0LA4CydW9JhB",
        "colab_type": "code",
        "colab": {}
      },
      "source": [
        "# Importar librerías necesarias\n",
        "import cv2\n",
        "import numpy as np\n",
        "import pandas as pd\n",
        "import matplotlib.pyplot as plt\n",
        "from google.colab import drive\n",
        "%matplotlib inline"
      ],
      "execution_count": null,
      "outputs": []
    },
    {
      "cell_type": "markdown",
      "metadata": {
        "id": "8-YAm5u2xirs",
        "colab_type": "text"
      },
      "source": [
        "Loading the dataset"
      ]
    },
    {
      "cell_type": "code",
      "metadata": {
        "id": "5e_570Hg9rCn",
        "colab_type": "code",
        "colab": {
          "base_uri": "https://localhost:8080/",
          "height": 139
        },
        "outputId": "ba6d5aae-92e7-441a-d6d1-23f1e8156e28"
      },
      "source": [
        "drive.mount('/content/drive')\n",
        "print(cv2.__version__)"
      ],
      "execution_count": null,
      "outputs": [
        {
          "output_type": "stream",
          "text": [
            "Go to this URL in a browser: https://accounts.google.com/o/oauth2/auth?client_id=947318989803-6bn6qk8qdgf4n4g3pfee6491hc0brc4i.apps.googleusercontent.com&redirect_uri=urn%3aietf%3awg%3aoauth%3a2.0%3aoob&scope=email%20https%3a%2f%2fwww.googleapis.com%2fauth%2fdocs.test%20https%3a%2f%2fwww.googleapis.com%2fauth%2fdrive%20https%3a%2f%2fwww.googleapis.com%2fauth%2fdrive.photos.readonly%20https%3a%2f%2fwww.googleapis.com%2fauth%2fpeopleapi.readonly&response_type=code\n",
            "\n",
            "Enter your authorization code:\n",
            "··········\n",
            "Mounted at /content/drive\n",
            "4.1.2\n"
          ],
          "name": "stdout"
        }
      ]
    },
    {
      "cell_type": "code",
      "metadata": {
        "id": "sIivx6CP9wXw",
        "colab_type": "code",
        "colab": {}
      },
      "source": [
        "iris_dataset = pd.read_csv('/content/drive/My Drive/MachineLearning/Classes/Aprendizaje automático/S1 - Introduction/Iris.csv')\n",
        "# DataFrame"
      ],
      "execution_count": null,
      "outputs": []
    },
    {
      "cell_type": "code",
      "metadata": {
        "id": "Mj2YJQGFCD_D",
        "colab_type": "code",
        "colab": {
          "base_uri": "https://localhost:8080/",
          "height": 204
        },
        "outputId": "2e65f587-a5eb-4a7e-d951-fab26adc4191"
      },
      "source": [
        "display(iris_dataset.head())"
      ],
      "execution_count": null,
      "outputs": [
        {
          "output_type": "display_data",
          "data": {
            "text/html": [
              "<div>\n",
              "<style scoped>\n",
              "    .dataframe tbody tr th:only-of-type {\n",
              "        vertical-align: middle;\n",
              "    }\n",
              "\n",
              "    .dataframe tbody tr th {\n",
              "        vertical-align: top;\n",
              "    }\n",
              "\n",
              "    .dataframe thead th {\n",
              "        text-align: right;\n",
              "    }\n",
              "</style>\n",
              "<table border=\"1\" class=\"dataframe\">\n",
              "  <thead>\n",
              "    <tr style=\"text-align: right;\">\n",
              "      <th></th>\n",
              "      <th>Id</th>\n",
              "      <th>SepalLengthCm</th>\n",
              "      <th>SepalWidthCm</th>\n",
              "      <th>PetalLengthCm</th>\n",
              "      <th>PetalWidthCm</th>\n",
              "      <th>Species</th>\n",
              "    </tr>\n",
              "  </thead>\n",
              "  <tbody>\n",
              "    <tr>\n",
              "      <th>0</th>\n",
              "      <td>1</td>\n",
              "      <td>5.1</td>\n",
              "      <td>3.5</td>\n",
              "      <td>1.4</td>\n",
              "      <td>0.2</td>\n",
              "      <td>Iris-setosa</td>\n",
              "    </tr>\n",
              "    <tr>\n",
              "      <th>1</th>\n",
              "      <td>2</td>\n",
              "      <td>4.9</td>\n",
              "      <td>3.0</td>\n",
              "      <td>1.4</td>\n",
              "      <td>0.2</td>\n",
              "      <td>Iris-setosa</td>\n",
              "    </tr>\n",
              "    <tr>\n",
              "      <th>2</th>\n",
              "      <td>3</td>\n",
              "      <td>4.7</td>\n",
              "      <td>3.2</td>\n",
              "      <td>1.3</td>\n",
              "      <td>0.2</td>\n",
              "      <td>Iris-setosa</td>\n",
              "    </tr>\n",
              "    <tr>\n",
              "      <th>3</th>\n",
              "      <td>4</td>\n",
              "      <td>4.6</td>\n",
              "      <td>3.1</td>\n",
              "      <td>1.5</td>\n",
              "      <td>0.2</td>\n",
              "      <td>Iris-setosa</td>\n",
              "    </tr>\n",
              "    <tr>\n",
              "      <th>4</th>\n",
              "      <td>5</td>\n",
              "      <td>5.0</td>\n",
              "      <td>3.6</td>\n",
              "      <td>1.4</td>\n",
              "      <td>0.2</td>\n",
              "      <td>Iris-setosa</td>\n",
              "    </tr>\n",
              "  </tbody>\n",
              "</table>\n",
              "</div>"
            ],
            "text/plain": [
              "   Id  SepalLengthCm  SepalWidthCm  PetalLengthCm  PetalWidthCm      Species\n",
              "0   1            5.1           3.5            1.4           0.2  Iris-setosa\n",
              "1   2            4.9           3.0            1.4           0.2  Iris-setosa\n",
              "2   3            4.7           3.2            1.3           0.2  Iris-setosa\n",
              "3   4            4.6           3.1            1.5           0.2  Iris-setosa\n",
              "4   5            5.0           3.6            1.4           0.2  Iris-setosa"
            ]
          },
          "metadata": {
            "tags": []
          }
        }
      ]
    },
    {
      "cell_type": "code",
      "metadata": {
        "id": "CCkrkBUVCSkK",
        "colab_type": "code",
        "colab": {
          "base_uri": "https://localhost:8080/",
          "height": 156
        },
        "outputId": "20d4a9f0-9214-4b26-ead1-b4bc5488fde3"
      },
      "source": [
        "print(\"Target names:\", np.unique(iris_dataset['Species']))\n",
        "print(\"Keys of iris_dataset:\\n\", iris_dataset.keys())\n",
        "print(\"Feature names:\\n\", iris_dataset.keys()[1:5])"
      ],
      "execution_count": null,
      "outputs": [
        {
          "output_type": "stream",
          "text": [
            "Target names: ['Iris-setosa' 'Iris-versicolor' 'Iris-virginica']\n",
            "Keys of iris_dataset:\n",
            " Index(['Id', 'SepalLengthCm', 'SepalWidthCm', 'PetalLengthCm', 'PetalWidthCm',\n",
            "       'Species'],\n",
            "      dtype='object')\n",
            "Feature names:\n",
            " Index(['SepalLengthCm', 'SepalWidthCm', 'PetalLengthCm', 'PetalWidthCm'], dtype='object')\n"
          ],
          "name": "stdout"
        }
      ]
    },
    {
      "cell_type": "code",
      "metadata": {
        "id": "cQZQzTbEDQWN",
        "colab_type": "code",
        "colab": {
          "base_uri": "https://localhost:8080/",
          "height": 170
        },
        "outputId": "69e39361-4db9-4da7-e6ab-c9f78445b9a0"
      },
      "source": [
        "X = iris_dataset[['SepalLengthCm', 'SepalWidthCm', 'PetalLengthCm', 'PetalWidthCm']] # We need to index the columns using a list [feature names]\n",
        "print(\"First samples of the feature matrix: \\n\", X.loc[0:4, :])\n",
        "Y = iris_dataset['Species']\n",
        "y = pd.factorize(Y)\n",
        "#print(\"First target values: \\n\", Y.loc[30:70])\n",
        "print(\"First numeric target values: \\n\", y[1])"
      ],
      "execution_count": null,
      "outputs": [
        {
          "output_type": "stream",
          "text": [
            "First samples of the feature matrix: \n",
            "    SepalLengthCm  SepalWidthCm  PetalLengthCm  PetalWidthCm\n",
            "0            5.1           3.5            1.4           0.2\n",
            "1            4.9           3.0            1.4           0.2\n",
            "2            4.7           3.2            1.3           0.2\n",
            "3            4.6           3.1            1.5           0.2\n",
            "4            5.0           3.6            1.4           0.2\n",
            "First numeric target values: \n",
            " Index(['Iris-setosa', 'Iris-versicolor', 'Iris-virginica'], dtype='object')\n"
          ],
          "name": "stdout"
        }
      ]
    },
    {
      "cell_type": "markdown",
      "metadata": {
        "id": "kdwaGSm2xUPo",
        "colab_type": "text"
      },
      "source": [
        "Measuring Performance: Training and Testing Data"
      ]
    },
    {
      "cell_type": "code",
      "metadata": {
        "id": "Si9HxJvoD7Xw",
        "colab_type": "code",
        "colab": {}
      },
      "source": [
        "from sklearn.model_selection import train_test_split\n",
        "X_train, X_test, y_train, y_test = train_test_split(X, y[0], test_size= 0.25, random_state = 0)"
      ],
      "execution_count": null,
      "outputs": []
    },
    {
      "cell_type": "code",
      "metadata": {
        "id": "vmYl6aOpHlyc",
        "colab_type": "code",
        "colab": {
          "base_uri": "https://localhost:8080/",
          "height": 85
        },
        "outputId": "f79156f7-8c59-4046-9a03-3706923e9963"
      },
      "source": [
        "print(\"Training feature matrix size: \", X_train.shape)\n",
        "#print(X_train.head())\n",
        "print(\"Test feature matrix size: \", X_test.shape)\n",
        "#print(X_test.head())\n",
        "print(\"Training target vector size: \", y_train.shape)\n",
        "#print(y_train.head())\n",
        "print(\"Test target vector size: \", y_test.shape)\n",
        "#print(y_test.head())"
      ],
      "execution_count": null,
      "outputs": [
        {
          "output_type": "stream",
          "text": [
            "Training feature matrix size:  (112, 4)\n",
            "Test feature matrix size:  (38, 4)\n",
            "Training target vector size:  (112,)\n",
            "Test target vector size:  (38,)\n"
          ],
          "name": "stdout"
        }
      ]
    },
    {
      "cell_type": "code",
      "metadata": {
        "id": "FZoYipogHyw7",
        "colab_type": "code",
        "colab": {}
      },
      "source": [
        "# Create the model\n",
        "from sklearn.neighbors import KNeighborsClassifier\n",
        "model_knn = KNeighborsClassifier(n_neighbors =1)\n"
      ],
      "execution_count": null,
      "outputs": []
    },
    {
      "cell_type": "code",
      "metadata": {
        "id": "QSY_IOkNyLxf",
        "colab_type": "code",
        "colab": {
          "base_uri": "https://localhost:8080/",
          "height": 68
        },
        "outputId": "acb1de7e-7a13-49b6-9507-254d0a8bfb17"
      },
      "source": [
        "# Train the model\n",
        "model_knn.fit(X_train, y_train)"
      ],
      "execution_count": null,
      "outputs": [
        {
          "output_type": "execute_result",
          "data": {
            "text/plain": [
              "KNeighborsClassifier(algorithm='auto', leaf_size=30, metric='minkowski',\n",
              "                     metric_params=None, n_jobs=None, n_neighbors=1, p=2,\n",
              "                     weights='uniform')"
            ]
          },
          "metadata": {
            "tags": []
          },
          "execution_count": 46
        }
      ]
    },
    {
      "cell_type": "code",
      "metadata": {
        "id": "ZAoHLGN2yT1J",
        "colab_type": "code",
        "colab": {
          "base_uri": "https://localhost:8080/",
          "height": 51
        },
        "outputId": "805cc2fe-7f1e-41f7-9f75-a8f0553d5d7a"
      },
      "source": [
        "# Make a prediction\n",
        "X_new = np.array([[5, 2.9, 1, 0.2]])\n",
        "print(\"X_new.shape:\", X_new.shape)\n",
        "prediction = model_knn.predict(X_new)\n",
        "print(\"Prediction:\", y[1][prediction])"
      ],
      "execution_count": null,
      "outputs": [
        {
          "output_type": "stream",
          "text": [
            "X_new.shape: (1, 4)\n",
            "Prediction: Index(['Iris-setosa'], dtype='object')\n"
          ],
          "name": "stdout"
        }
      ]
    },
    {
      "cell_type": "code",
      "metadata": {
        "id": "u4oOoSqKyfup",
        "colab_type": "code",
        "colab": {
          "base_uri": "https://localhost:8080/",
          "height": 34
        },
        "outputId": "4f80b735-eebf-41b2-cad2-3ae0f2693c5c"
      },
      "source": [
        "# Evaluate the model\n",
        "y_pred = model_knn.predict(X_test)\n",
        "print(\"Test set score: {:.2f}\".format(np.mean(y_pred == y_test)))"
      ],
      "execution_count": null,
      "outputs": [
        {
          "output_type": "stream",
          "text": [
            "Test set score: 0.97\n"
          ],
          "name": "stdout"
        }
      ]
    },
    {
      "cell_type": "code",
      "metadata": {
        "id": "Zck86LFhC2RP",
        "colab_type": "code",
        "colab": {
          "base_uri": "https://localhost:8080/",
          "height": 34
        },
        "outputId": "0ce40536-2ced-4226-a3e9-c52fc0856766"
      },
      "source": [
        "print(\"Test set score: {:.2f}\".format(model_knn.score(X_test, y_test)))"
      ],
      "execution_count": null,
      "outputs": [
        {
          "output_type": "stream",
          "text": [
            "Test set score: 0.97\n"
          ],
          "name": "stdout"
        }
      ]
    },
    {
      "cell_type": "markdown",
      "metadata": {
        "id": "f-QvWeEHQqeP",
        "colab_type": "text"
      },
      "source": [
        "Analysing  the KNeighborsClassifier"
      ]
    },
    {
      "cell_type": "code",
      "metadata": {
        "id": "WIFLoQI0PZl7",
        "colab_type": "code",
        "colab": {
          "base_uri": "https://localhost:8080/",
          "height": 445
        },
        "outputId": "2bde98c1-f81b-4334-eac3-1e30775fdf5f"
      },
      "source": [
        "!pip install mglearn"
      ],
      "execution_count": null,
      "outputs": [
        {
          "output_type": "stream",
          "text": [
            "Collecting mglearn\n",
            "\u001b[?25l  Downloading https://files.pythonhosted.org/packages/65/38/8aced26fce0b2ae82c3c87cd3b6105f38ca6d9d51704ecc44aa54473e6b9/mglearn-0.1.9.tar.gz (540kB)\n",
            "\r\u001b[K     |▋                               | 10kB 18.0MB/s eta 0:00:01\r\u001b[K     |█▏                              | 20kB 6.3MB/s eta 0:00:01\r\u001b[K     |█▉                              | 30kB 7.1MB/s eta 0:00:01\r\u001b[K     |██▍                             | 40kB 8.5MB/s eta 0:00:01\r\u001b[K     |███                             | 51kB 6.7MB/s eta 0:00:01\r\u001b[K     |███▋                            | 61kB 7.4MB/s eta 0:00:01\r\u001b[K     |████▎                           | 71kB 7.7MB/s eta 0:00:01\r\u001b[K     |████▉                           | 81kB 8.4MB/s eta 0:00:01\r\u001b[K     |█████▌                          | 92kB 8.0MB/s eta 0:00:01\r\u001b[K     |██████                          | 102kB 8.3MB/s eta 0:00:01\r\u001b[K     |██████▊                         | 112kB 8.3MB/s eta 0:00:01\r\u001b[K     |███████▎                        | 122kB 8.3MB/s eta 0:00:01\r\u001b[K     |███████▉                        | 133kB 8.3MB/s eta 0:00:01\r\u001b[K     |████████▌                       | 143kB 8.3MB/s eta 0:00:01\r\u001b[K     |█████████                       | 153kB 8.3MB/s eta 0:00:01\r\u001b[K     |█████████▊                      | 163kB 8.3MB/s eta 0:00:01\r\u001b[K     |██████████▎                     | 174kB 8.3MB/s eta 0:00:01\r\u001b[K     |███████████                     | 184kB 8.3MB/s eta 0:00:01\r\u001b[K     |███████████▌                    | 194kB 8.3MB/s eta 0:00:01\r\u001b[K     |████████████▏                   | 204kB 8.3MB/s eta 0:00:01\r\u001b[K     |████████████▊                   | 215kB 8.3MB/s eta 0:00:01\r\u001b[K     |█████████████▍                  | 225kB 8.3MB/s eta 0:00:01\r\u001b[K     |██████████████                  | 235kB 8.3MB/s eta 0:00:01\r\u001b[K     |██████████████▋                 | 245kB 8.3MB/s eta 0:00:01\r\u001b[K     |███████████████▏                | 256kB 8.3MB/s eta 0:00:01\r\u001b[K     |███████████████▊                | 266kB 8.3MB/s eta 0:00:01\r\u001b[K     |████████████████▍               | 276kB 8.3MB/s eta 0:00:01\r\u001b[K     |█████████████████               | 286kB 8.3MB/s eta 0:00:01\r\u001b[K     |█████████████████▋              | 296kB 8.3MB/s eta 0:00:01\r\u001b[K     |██████████████████▏             | 307kB 8.3MB/s eta 0:00:01\r\u001b[K     |██████████████████▉             | 317kB 8.3MB/s eta 0:00:01\r\u001b[K     |███████████████████▍            | 327kB 8.3MB/s eta 0:00:01\r\u001b[K     |████████████████████            | 337kB 8.3MB/s eta 0:00:01\r\u001b[K     |████████████████████▋           | 348kB 8.3MB/s eta 0:00:01\r\u001b[K     |█████████████████████▎          | 358kB 8.3MB/s eta 0:00:01\r\u001b[K     |█████████████████████▉          | 368kB 8.3MB/s eta 0:00:01\r\u001b[K     |██████████████████████▌         | 378kB 8.3MB/s eta 0:00:01\r\u001b[K     |███████████████████████         | 389kB 8.3MB/s eta 0:00:01\r\u001b[K     |███████████████████████▋        | 399kB 8.3MB/s eta 0:00:01\r\u001b[K     |████████████████████████▎       | 409kB 8.3MB/s eta 0:00:01\r\u001b[K     |████████████████████████▉       | 419kB 8.3MB/s eta 0:00:01\r\u001b[K     |█████████████████████████▌      | 430kB 8.3MB/s eta 0:00:01\r\u001b[K     |██████████████████████████      | 440kB 8.3MB/s eta 0:00:01\r\u001b[K     |██████████████████████████▊     | 450kB 8.3MB/s eta 0:00:01\r\u001b[K     |███████████████████████████▎    | 460kB 8.3MB/s eta 0:00:01\r\u001b[K     |████████████████████████████    | 471kB 8.3MB/s eta 0:00:01\r\u001b[K     |████████████████████████████▌   | 481kB 8.3MB/s eta 0:00:01\r\u001b[K     |█████████████████████████████▏  | 491kB 8.3MB/s eta 0:00:01\r\u001b[K     |█████████████████████████████▊  | 501kB 8.3MB/s eta 0:00:01\r\u001b[K     |██████████████████████████████▍ | 512kB 8.3MB/s eta 0:00:01\r\u001b[K     |███████████████████████████████ | 522kB 8.3MB/s eta 0:00:01\r\u001b[K     |███████████████████████████████▌| 532kB 8.3MB/s eta 0:00:01\r\u001b[K     |████████████████████████████████| 542kB 8.3MB/s \n",
            "\u001b[?25hRequirement already satisfied: numpy in /usr/local/lib/python3.6/dist-packages (from mglearn) (1.18.5)\n",
            "Requirement already satisfied: matplotlib in /usr/local/lib/python3.6/dist-packages (from mglearn) (3.2.2)\n",
            "Requirement already satisfied: scikit-learn in /usr/local/lib/python3.6/dist-packages (from mglearn) (0.22.2.post1)\n",
            "Requirement already satisfied: pandas in /usr/local/lib/python3.6/dist-packages (from mglearn) (1.0.5)\n",
            "Requirement already satisfied: pillow in /usr/local/lib/python3.6/dist-packages (from mglearn) (7.0.0)\n",
            "Requirement already satisfied: cycler in /usr/local/lib/python3.6/dist-packages (from mglearn) (0.10.0)\n",
            "Requirement already satisfied: imageio in /usr/local/lib/python3.6/dist-packages (from mglearn) (2.4.1)\n",
            "Requirement already satisfied: joblib in /usr/local/lib/python3.6/dist-packages (from mglearn) (0.16.0)\n",
            "Requirement already satisfied: python-dateutil>=2.1 in /usr/local/lib/python3.6/dist-packages (from matplotlib->mglearn) (2.8.1)\n",
            "Requirement already satisfied: kiwisolver>=1.0.1 in /usr/local/lib/python3.6/dist-packages (from matplotlib->mglearn) (1.2.0)\n",
            "Requirement already satisfied: pyparsing!=2.0.4,!=2.1.2,!=2.1.6,>=2.0.1 in /usr/local/lib/python3.6/dist-packages (from matplotlib->mglearn) (2.4.7)\n",
            "Requirement already satisfied: scipy>=0.17.0 in /usr/local/lib/python3.6/dist-packages (from scikit-learn->mglearn) (1.4.1)\n",
            "Requirement already satisfied: pytz>=2017.2 in /usr/local/lib/python3.6/dist-packages (from pandas->mglearn) (2018.9)\n",
            "Requirement already satisfied: six in /usr/local/lib/python3.6/dist-packages (from cycler->mglearn) (1.15.0)\n",
            "Building wheels for collected packages: mglearn\n",
            "  Building wheel for mglearn (setup.py) ... \u001b[?25l\u001b[?25hdone\n",
            "  Created wheel for mglearn: filename=mglearn-0.1.9-py2.py3-none-any.whl size=582638 sha256=ed2cbe15cbced7f28ab521fde184c5292f6f91e9c241cb0580743186d0e63ba2\n",
            "  Stored in directory: /root/.cache/pip/wheels/eb/a6/ea/a6a3716233fa62fc561259b5cb1e28f79e9ff3592c0adac5f0\n",
            "Successfully built mglearn\n",
            "Installing collected packages: mglearn\n",
            "Successfully installed mglearn-0.1.9\n"
          ],
          "name": "stdout"
        }
      ]
    },
    {
      "cell_type": "code",
      "metadata": {
        "id": "Rl3WJcZty-Aa",
        "colab_type": "code",
        "colab": {
          "base_uri": "https://localhost:8080/",
          "height": 34
        },
        "outputId": "214459ba-c305-4bf0-b5b1-318c8cbe5d5e"
      },
      "source": [
        "zobj=zip([1, 8, 4],['rr', 'tt', 'gg'])\n",
        "print([x for x in zobj])"
      ],
      "execution_count": null,
      "outputs": [
        {
          "output_type": "stream",
          "text": [
            "[(1, 'rr'), (8, 'tt'), (4, 'gg')]\n"
          ],
          "name": "stdout"
        }
      ]
    },
    {
      "cell_type": "code",
      "metadata": {
        "id": "G30c0NOzRbQu",
        "colab_type": "code",
        "colab": {
          "base_uri": "https://localhost:8080/",
          "height": 295
        },
        "outputId": "528c2703-ab6b-4c4c-9224-3f23c50fb538"
      },
      "source": [
        "import mglearn\n",
        "X, y = mglearn.datasets.make_forge()\n",
        "fig, axes = plt.subplots(1, 3, figsize=(10, 3))\n",
        "for n_neighbors, ax in zip([1, 3, 9], axes):\n",
        "    # the fit method returns the object self, so we can instantiate\n",
        "    # and fit in one line\n",
        "    clf = KNeighborsClassifier(n_neighbors=n_neighbors).fit(X, y)\n",
        "    mglearn.plots.plot_2d_separator(clf, X, fill=True, eps=0.5, ax=ax, alpha=0.4)\n",
        "    mglearn.discrete_scatter(X[:, 0], X[:, 1], y, ax=ax)\n",
        "    ax.set_title(\"{} neighbor(s)\".format(n_neighbors))\n",
        "    ax.set_xlabel(\"feature 0\")\n",
        "    ax.set_ylabel(\"feature 1\")\n",
        "axes[0].legend(loc=3)"
      ],
      "execution_count": null,
      "outputs": [
        {
          "output_type": "stream",
          "text": [
            "/usr/local/lib/python3.6/dist-packages/sklearn/utils/deprecation.py:87: FutureWarning: Function make_blobs is deprecated; Please import make_blobs directly from scikit-learn\n",
            "  warnings.warn(msg, category=FutureWarning)\n"
          ],
          "name": "stderr"
        },
        {
          "output_type": "execute_result",
          "data": {
            "text/plain": [
              "<matplotlib.legend.Legend at 0x7f9ef069e3c8>"
            ]
          },
          "metadata": {
            "tags": []
          },
          "execution_count": 23
        },
        {
          "output_type": "display_data",
          "data": {
            "image/png": "[encoded data removed]",
            "text/plain": [
              "<Figure size 720x216 with 3 Axes>"
            ]
          },
          "metadata": {
            "tags": []
          }
        }
      ]
    },
    {
      "cell_type": "code",
      "metadata": {
        "id": "VryA1m1JRf5c",
        "colab_type": "code",
        "colab": {
          "base_uri": "https://localhost:8080/",
          "height": 86
        },
        "outputId": "14dcf9e0-9c6e-466a-ffb9-a8f151ca434b"
      },
      "source": [
        "from sklearn.datasets import load_breast_cancer\n",
        "cancer = load_breast_cancer()\n",
        "display(cancer.keys())\n",
        "print('target_names: ',cancer['target_names'])\n",
        "print('Data: ', cancer['data'].shape)\n",
        "print('Target: ', cancer['target'].shape)\n",
        "#print('FEATURE names: ',cancer['feature_names'])\n",
        "X_train, X_test, y_train, y_test = train_test_split(\n",
        "    cancer.data, cancer.target, stratify=cancer.target, random_state=66)"
      ],
      "execution_count": null,
      "outputs": [
        {
          "output_type": "display_data",
          "data": {
            "text/plain": [
              "dict_keys(['data', 'target', 'target_names', 'DESCR', 'feature_names', 'filename'])"
            ]
          },
          "metadata": {
            "tags": []
          }
        },
        {
          "output_type": "stream",
          "text": [
            "target_names:  ['malignant' 'benign']\n",
            "Data:  (569, 30)\n",
            "Target:  (569,)\n"
          ],
          "name": "stdout"
        }
      ]
    },
    {
      "cell_type": "code",
      "metadata": {
        "id": "_wpTCoIVTUJT",
        "colab_type": "code",
        "colab": {
          "base_uri": "https://localhost:8080/",
          "height": 297
        },
        "outputId": "70bc24e4-8d62-4a43-e9ab-a249f98ccfa5"
      },
      "source": [
        "training_accuracy = []\n",
        "test_accuracy = []\n",
        "# try n_neighbors from 1 to 10\n",
        "neighbors_settings = range(1, 11)\n",
        "for n_neighbors in neighbors_settings:\n",
        "    # build the model\n",
        "    clf = KNeighborsClassifier(n_neighbors=n_neighbors)\n",
        "    clf.fit(X_train, y_train)\n",
        "    # record training set accuracy\n",
        "    training_accuracy.append(clf.score(X_train, y_train))\n",
        "    # record generalization accuracy\n",
        "    test_accuracy.append(clf.score(X_test, y_test))\n",
        "\n",
        "#print('training_accuracy: ', training_accuracy)\n",
        "#print('test_accuracy: ', test_accuracy)\n",
        "plt.plot(neighbors_settings, training_accuracy, label=\"training accuracy\")\n",
        "plt.plot(neighbors_settings, test_accuracy, label=\"test accuracy\")\n",
        "plt.ylabel(\"Accuracy\")\n",
        "plt.xlabel(\"n_neighbors\")\n",
        "plt.legend()"
      ],
      "execution_count": null,
      "outputs": [
        {
          "output_type": "execute_result",
          "data": {
            "text/plain": [
              "<matplotlib.legend.Legend at 0x7f9ef497b898>"
            ]
          },
          "metadata": {
            "tags": []
          },
          "execution_count": 68
        },
        {
          "output_type": "display_data",
          "data": {
            "image/png": "[encoded data removed]",
            "text/plain": [
              "<Figure size 432x288 with 1 Axes>"
            ]
          },
          "metadata": {
            "tags": [],
            "needs_background": "light"
          }
        }
      ]
    },
    {
      "cell_type": "markdown",
      "metadata": {
        "id": "hHvIAF-tVJ-h",
        "colab_type": "text"
      },
      "source": [
        "Confusion matrix"
      ]
    },
    {
      "cell_type": "code",
      "metadata": {
        "id": "Xa5Fl31aUTnO",
        "colab_type": "code",
        "colab": {}
      },
      "source": [
        "clf = KNeighborsClassifier(n_neighbors=6)\n",
        "clf.fit(X_train, y_train)\n",
        "y_pred_test = clf.predict(X_test)\n",
        "\n"
      ],
      "execution_count": null,
      "outputs": []
    },
    {
      "cell_type": "code",
      "metadata": {
        "id": "tPpZWwoBV5DN",
        "colab_type": "code",
        "colab": {
          "base_uri": "https://localhost:8080/",
          "height": 51
        },
        "outputId": "f367b279-b545-4e82-8fd7-f9fd88627b1c"
      },
      "source": [
        "from sklearn.metrics import confusion_matrix # y_test is the groundtruth\n",
        "cm = confusion_matrix(y_test, y_pred_test)\n",
        "display(cm)"
      ],
      "execution_count": null,
      "outputs": [
        {
          "output_type": "display_data",
          "data": {
            "text/plain": [
              "array([[48,  5],\n",
              "       [ 4, 86]])"
            ]
          },
          "metadata": {
            "tags": []
          }
        }
      ]
    },
    {
      "cell_type": "code",
      "metadata": {
        "id": "SHiDPFCKWCMs",
        "colab_type": "code",
        "colab": {
          "base_uri": "https://localhost:8080/",
          "height": 296
        },
        "outputId": "e6f91467-d316-4f0e-e61b-c64b8986d757"
      },
      "source": [
        "from sklearn.metrics import plot_confusion_matrix\n",
        "plot_confusion_matrix(clf, X_test, y_test) "
      ],
      "execution_count": null,
      "outputs": [
        {
          "output_type": "execute_result",
          "data": {
            "text/plain": [
              "<sklearn.metrics._plot.confusion_matrix.ConfusionMatrixDisplay at 0x7f9ef038d630>"
            ]
          },
          "metadata": {
            "tags": []
          },
          "execution_count": 35
        },
        {
          "output_type": "display_data",
          "data": {
            "image/png": "[encoded data removed]",
            "text/plain": [
              "<Figure size 432x288 with 2 Axes>"
            ]
          },
          "metadata": {
            "tags": [],
            "needs_background": "light"
          }
        }
      ]
    },
    {
      "cell_type": "code",
      "metadata": {
        "id": "DLo_XNdWWgW_",
        "colab_type": "code",
        "colab": {}
      },
      "source": [
        ""
      ],
      "execution_count": null,
      "outputs": []
    }
  ]
}